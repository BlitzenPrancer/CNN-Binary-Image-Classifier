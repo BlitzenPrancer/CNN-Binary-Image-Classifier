{
  "nbformat": 4,
  "nbformat_minor": 0,
  "metadata": {
    "kernelspec": {
      "display_name": "Python 3",
      "language": "python",
      "name": "python3"
    },
    "language_info": {
      "codemirror_mode": {
        "name": "ipython",
        "version": 3
      },
      "file_extension": ".py",
      "mimetype": "text/x-python",
      "name": "python",
      "nbconvert_exporter": "python",
      "pygments_lexer": "ipython3",
      "version": "3.9.6"
    },
    "colab": {
      "name": "CNN-Construction-Images-Classifier.ipynb",
      "provenance": [],
      "collapsed_sections": [],
      "include_colab_link": true
    }
  },
  "cells": [
    {
      "cell_type": "markdown",
      "metadata": {
        "id": "view-in-github",
        "colab_type": "text"
      },
      "source": [
        "<a href=\"https://colab.research.google.com/github/BlitzenPrancer/CNN-Construction-Images-Classifier/blob/main/CNN_Construction_Images_Classifier.ipynb\" target=\"_parent\"><img src=\"https://colab.research.google.com/assets/colab-badge.svg\" alt=\"Open In Colab\"/></a>"
      ]
    },
    {
      "cell_type": "code",
      "metadata": {
        "id": "u71WClnva2vT"
      },
      "source": [
        "import tensorflow as tf\n",
        "import numpy as np\n",
        "from tensorflow.keras.preprocessing.image import ImageDataGenerator\n",
        "from tensorflow.keras.preprocessing import image"
      ],
      "execution_count": 12,
      "outputs": []
    },
    {
      "cell_type": "code",
      "metadata": {
        "colab": {
          "base_uri": "https://localhost:8080/"
        },
        "id": "Sfdwx2j4a_Jb",
        "outputId": "a7bf016f-f5f2-44b4-ac85-d4868e344de3"
      },
      "source": [
        "from google.colab import drive\n",
        "drive.mount('/content/drive')"
      ],
      "execution_count": 13,
      "outputs": [
        {
          "output_type": "stream",
          "name": "stdout",
          "text": [
            "Drive already mounted at /content/drive; to attempt to forcibly remount, call drive.mount(\"/content/drive\", force_remount=True).\n"
          ]
        }
      ]
    },
    {
      "cell_type": "markdown",
      "metadata": {
        "id": "A4KaLf9ba2vV"
      },
      "source": [
        "I am using the ImageDataGenerator class to feed in the training and validation data to the model. This class can also be used to generate augmented data."
      ]
    },
    {
      "cell_type": "code",
      "metadata": {
        "colab": {
          "base_uri": "https://localhost:8080/"
        },
        "id": "a8b4ixSBa2vW",
        "outputId": "19325712-c47b-43b0-8e66-898eba1185ee"
      },
      "source": [
        "train_datagenerator = ImageDataGenerator(rescale=1./255)\n",
        "test_datagenerator = ImageDataGenerator(rescale=1./255)\n",
        "\n",
        "train_datagenerator = train_datagenerator.flow_from_directory(\n",
        "    '/content/drive/MyDrive/code/train',\n",
        "    target_size=(128,128),\n",
        "    batch_size=40,\n",
        "    class_mode='binary')\n",
        "\n",
        "test_datagenerator = test_datagenerator.flow_from_directory(\n",
        "    '/content/drive/MyDrive/code/test',\n",
        "    target_size=(128,128),\n",
        "    batch_size=10,\n",
        "    class_mode='binary')"
      ],
      "execution_count": 15,
      "outputs": [
        {
          "output_type": "stream",
          "name": "stdout",
          "text": [
            "Found 229 images belonging to 2 classes.\n",
            "Found 40 images belonging to 2 classes.\n"
          ]
        }
      ]
    },
    {
      "cell_type": "markdown",
      "metadata": {
        "id": "hBgycSs4a2vY"
      },
      "source": [
        "My model will have 3 Convolution2D layers"
      ]
    },
    {
      "cell_type": "code",
      "metadata": {
        "id": "k6VVgdwQa2vY"
      },
      "source": [
        "model = tf.keras.models.Sequential([\n",
        "    tf.keras.layers.Conv2D(32, (3,3),padding='same', activation='relu', input_shape=(128,128,3)),\n",
        "    tf.keras.layers.MaxPooling2D((2,2),2),\n",
        "    \n",
        "    tf.keras.layers.Conv2D(64, (3,3), padding='same', activation='relu'),\n",
        "    tf.keras.layers.MaxPooling2D((2,2),2),     \n",
        "     \n",
        "    tf.keras.layers.Conv2D(128, (3,3), padding='same', activation='relu'),\n",
        "    tf.keras.layers.MaxPooling2D((2,2),2),   \n",
        "    \n",
        "    tf.keras.layers.Flatten(),\n",
        "    tf.keras.layers.Dense(512, activation='relu'),\n",
        "    \n",
        "    tf.keras.layers.Dense(1, activation='sigmoid')\n",
        "])"
      ],
      "execution_count": 16,
      "outputs": []
    },
    {
      "cell_type": "code",
      "metadata": {
        "colab": {
          "base_uri": "https://localhost:8080/"
        },
        "id": "BT4rdEEwa2vZ",
        "outputId": "f7a3320b-53da-4681-88e5-2bf6b42aff64"
      },
      "source": [
        "print(model.summary())"
      ],
      "execution_count": 17,
      "outputs": [
        {
          "output_type": "stream",
          "name": "stdout",
          "text": [
            "Model: \"sequential_2\"\n",
            "_________________________________________________________________\n",
            "Layer (type)                 Output Shape              Param #   \n",
            "=================================================================\n",
            "conv2d_6 (Conv2D)            (None, 128, 128, 32)      896       \n",
            "_________________________________________________________________\n",
            "max_pooling2d_6 (MaxPooling2 (None, 64, 64, 32)        0         \n",
            "_________________________________________________________________\n",
            "conv2d_7 (Conv2D)            (None, 64, 64, 64)        18496     \n",
            "_________________________________________________________________\n",
            "max_pooling2d_7 (MaxPooling2 (None, 32, 32, 64)        0         \n",
            "_________________________________________________________________\n",
            "conv2d_8 (Conv2D)            (None, 32, 32, 128)       73856     \n",
            "_________________________________________________________________\n",
            "max_pooling2d_8 (MaxPooling2 (None, 16, 16, 128)       0         \n",
            "_________________________________________________________________\n",
            "flatten_2 (Flatten)          (None, 32768)             0         \n",
            "_________________________________________________________________\n",
            "dense_4 (Dense)              (None, 512)               16777728  \n",
            "_________________________________________________________________\n",
            "dense_5 (Dense)              (None, 1)                 513       \n",
            "=================================================================\n",
            "Total params: 16,871,489\n",
            "Trainable params: 16,871,489\n",
            "Non-trainable params: 0\n",
            "_________________________________________________________________\n",
            "None\n"
          ]
        }
      ]
    },
    {
      "cell_type": "code",
      "metadata": {
        "id": "qLoRn5Vja2vb"
      },
      "source": [
        "model.compile(loss='binary_crossentropy',\n",
        "             optimizer=tf.keras.optimizers.Adam(0.001),\n",
        "             metrics=['accuracy'])"
      ],
      "execution_count": 18,
      "outputs": []
    },
    {
      "cell_type": "code",
      "metadata": {
        "id": "6oKUX36Pa2vc"
      },
      "source": [
        "DESIRED_ACCURACY = 0.85\n",
        "\n",
        "class myCallback(tf.keras.callbacks.Callback):\n",
        "  def on_epoch_end(self, epoch, logs={}):\n",
        "    if((logs.get('accuracy')>DESIRED_ACCURACY) and (logs.get('val_accuracy')>DESIRED_ACCURACY )):\n",
        "      print(\"\\nReached 85% accuracy so cancelling training!\")\n",
        "      self.model.stop_training = True\n",
        "\n",
        "callbacks = myCallback()"
      ],
      "execution_count": 19,
      "outputs": []
    },
    {
      "cell_type": "code",
      "metadata": {
        "colab": {
          "base_uri": "https://localhost:8080/"
        },
        "id": "UdL8BDTRa2vd",
        "outputId": "a3151714-7e60-4a47-afdd-d4fd6466b2eb"
      },
      "source": [
        "model.fit_generator(\n",
        "    train_datagenerator,\n",
        "    epochs=100,\n",
        "    validation_data = test_datagenerator,\n",
        "    callbacks = [callbacks]\n",
        "    )"
      ],
      "execution_count": 20,
      "outputs": [
        {
          "output_type": "stream",
          "name": "stderr",
          "text": [
            "/usr/local/lib/python3.7/dist-packages/keras/engine/training.py:1972: UserWarning: `Model.fit_generator` is deprecated and will be removed in a future version. Please use `Model.fit`, which supports generators.\n",
            "  warnings.warn('`Model.fit_generator` is deprecated and '\n"
          ]
        },
        {
          "output_type": "stream",
          "name": "stdout",
          "text": [
            "Epoch 1/100\n",
            "6/6 [==============================] - 61s 10s/step - loss: 1.5009 - accuracy: 0.4978 - val_loss: 0.6963 - val_accuracy: 0.5000\n",
            "Epoch 2/100\n",
            "6/6 [==============================] - 10s 2s/step - loss: 0.6943 - accuracy: 0.5546 - val_loss: 0.6979 - val_accuracy: 0.4750\n",
            "Epoch 3/100\n",
            "6/6 [==============================] - 10s 2s/step - loss: 0.6711 - accuracy: 0.5371 - val_loss: 0.6945 - val_accuracy: 0.4750\n",
            "Epoch 4/100\n",
            "6/6 [==============================] - 10s 2s/step - loss: 0.6201 - accuracy: 0.6856 - val_loss: 0.7408 - val_accuracy: 0.5000\n",
            "Epoch 5/100\n",
            "6/6 [==============================] - 10s 2s/step - loss: 0.5847 - accuracy: 0.7031 - val_loss: 0.7502 - val_accuracy: 0.5000\n",
            "Epoch 6/100\n",
            "6/6 [==============================] - 10s 2s/step - loss: 0.5520 - accuracy: 0.7380 - val_loss: 0.6986 - val_accuracy: 0.5750\n",
            "Epoch 7/100\n",
            "6/6 [==============================] - 10s 2s/step - loss: 0.4906 - accuracy: 0.7686 - val_loss: 0.7296 - val_accuracy: 0.6000\n",
            "Epoch 8/100\n",
            "6/6 [==============================] - 10s 2s/step - loss: 0.4138 - accuracy: 0.8210 - val_loss: 0.7454 - val_accuracy: 0.5500\n",
            "Epoch 9/100\n",
            "6/6 [==============================] - 10s 2s/step - loss: 0.3935 - accuracy: 0.8297 - val_loss: 0.7200 - val_accuracy: 0.6250\n",
            "Epoch 10/100\n",
            "6/6 [==============================] - 10s 2s/step - loss: 0.3379 - accuracy: 0.8603 - val_loss: 0.7958 - val_accuracy: 0.6000\n",
            "Epoch 11/100\n",
            "6/6 [==============================] - 10s 2s/step - loss: 0.2600 - accuracy: 0.9170 - val_loss: 0.8075 - val_accuracy: 0.6250\n",
            "Epoch 12/100\n",
            "6/6 [==============================] - 11s 2s/step - loss: 0.1989 - accuracy: 0.9345 - val_loss: 0.9473 - val_accuracy: 0.5750\n",
            "Epoch 13/100\n",
            "6/6 [==============================] - 10s 2s/step - loss: 0.1918 - accuracy: 0.9476 - val_loss: 0.8849 - val_accuracy: 0.6000\n",
            "Epoch 14/100\n",
            "6/6 [==============================] - 10s 2s/step - loss: 0.1614 - accuracy: 0.9389 - val_loss: 1.0451 - val_accuracy: 0.5500\n",
            "Epoch 15/100\n",
            "6/6 [==============================] - 10s 2s/step - loss: 0.1074 - accuracy: 0.9607 - val_loss: 1.7362 - val_accuracy: 0.5250\n",
            "Epoch 16/100\n",
            "6/6 [==============================] - 10s 2s/step - loss: 0.1022 - accuracy: 0.9651 - val_loss: 1.0332 - val_accuracy: 0.6000\n",
            "Epoch 17/100\n",
            "6/6 [==============================] - 10s 2s/step - loss: 0.0724 - accuracy: 0.9956 - val_loss: 1.1949 - val_accuracy: 0.6250\n",
            "Epoch 18/100\n",
            "6/6 [==============================] - 10s 2s/step - loss: 0.0464 - accuracy: 0.9869 - val_loss: 1.4839 - val_accuracy: 0.6500\n",
            "Epoch 19/100\n",
            "6/6 [==============================] - 10s 2s/step - loss: 0.0289 - accuracy: 1.0000 - val_loss: 1.6091 - val_accuracy: 0.5750\n",
            "Epoch 20/100\n",
            "6/6 [==============================] - 10s 2s/step - loss: 0.0265 - accuracy: 0.9956 - val_loss: 1.5930 - val_accuracy: 0.6250\n",
            "Epoch 21/100\n",
            "6/6 [==============================] - 10s 2s/step - loss: 0.0125 - accuracy: 1.0000 - val_loss: 1.9394 - val_accuracy: 0.5750\n",
            "Epoch 22/100\n",
            "6/6 [==============================] - 10s 2s/step - loss: 0.0113 - accuracy: 1.0000 - val_loss: 2.0671 - val_accuracy: 0.5250\n",
            "Epoch 23/100\n",
            "6/6 [==============================] - 10s 2s/step - loss: 0.0066 - accuracy: 1.0000 - val_loss: 1.8385 - val_accuracy: 0.6250\n",
            "Epoch 24/100\n",
            "6/6 [==============================] - 10s 2s/step - loss: 0.0062 - accuracy: 1.0000 - val_loss: 2.1191 - val_accuracy: 0.5750\n",
            "Epoch 25/100\n",
            "6/6 [==============================] - 10s 2s/step - loss: 0.0040 - accuracy: 1.0000 - val_loss: 2.3554 - val_accuracy: 0.5750\n",
            "Epoch 26/100\n",
            "6/6 [==============================] - 10s 2s/step - loss: 0.0025 - accuracy: 1.0000 - val_loss: 2.1211 - val_accuracy: 0.6000\n",
            "Epoch 27/100\n",
            "6/6 [==============================] - 10s 2s/step - loss: 0.0022 - accuracy: 1.0000 - val_loss: 2.3800 - val_accuracy: 0.5750\n",
            "Epoch 28/100\n",
            "6/6 [==============================] - 10s 2s/step - loss: 0.0017 - accuracy: 1.0000 - val_loss: 2.4253 - val_accuracy: 0.5750\n",
            "Epoch 29/100\n",
            "6/6 [==============================] - 10s 2s/step - loss: 0.0013 - accuracy: 1.0000 - val_loss: 2.2650 - val_accuracy: 0.6000\n",
            "Epoch 30/100\n",
            "6/6 [==============================] - 10s 2s/step - loss: 0.0012 - accuracy: 1.0000 - val_loss: 2.3507 - val_accuracy: 0.5750\n",
            "Epoch 31/100\n",
            "6/6 [==============================] - 10s 2s/step - loss: 9.3304e-04 - accuracy: 1.0000 - val_loss: 2.5442 - val_accuracy: 0.5750\n",
            "Epoch 32/100\n",
            "6/6 [==============================] - 10s 2s/step - loss: 8.5722e-04 - accuracy: 1.0000 - val_loss: 2.5582 - val_accuracy: 0.5750\n",
            "Epoch 33/100\n",
            "6/6 [==============================] - 10s 2s/step - loss: 7.1342e-04 - accuracy: 1.0000 - val_loss: 2.5119 - val_accuracy: 0.5750\n",
            "Epoch 34/100\n",
            "6/6 [==============================] - 10s 2s/step - loss: 6.7449e-04 - accuracy: 1.0000 - val_loss: 2.5573 - val_accuracy: 0.5750\n",
            "Epoch 35/100\n",
            "6/6 [==============================] - 10s 2s/step - loss: 5.7421e-04 - accuracy: 1.0000 - val_loss: 2.6981 - val_accuracy: 0.5750\n",
            "Epoch 36/100\n",
            "6/6 [==============================] - 10s 2s/step - loss: 5.2724e-04 - accuracy: 1.0000 - val_loss: 2.7511 - val_accuracy: 0.5750\n",
            "Epoch 37/100\n",
            "6/6 [==============================] - 10s 2s/step - loss: 4.7001e-04 - accuracy: 1.0000 - val_loss: 2.7400 - val_accuracy: 0.5750\n",
            "Epoch 38/100\n",
            "6/6 [==============================] - 10s 2s/step - loss: 4.2829e-04 - accuracy: 1.0000 - val_loss: 2.7713 - val_accuracy: 0.5750\n",
            "Epoch 39/100\n",
            "6/6 [==============================] - 10s 2s/step - loss: 3.9702e-04 - accuracy: 1.0000 - val_loss: 2.8056 - val_accuracy: 0.5750\n",
            "Epoch 40/100\n",
            "6/6 [==============================] - 10s 2s/step - loss: 3.6645e-04 - accuracy: 1.0000 - val_loss: 2.8458 - val_accuracy: 0.5750\n",
            "Epoch 41/100\n",
            "6/6 [==============================] - 10s 2s/step - loss: 3.4370e-04 - accuracy: 1.0000 - val_loss: 2.8758 - val_accuracy: 0.5750\n",
            "Epoch 42/100\n",
            "6/6 [==============================] - 10s 2s/step - loss: 3.1023e-04 - accuracy: 1.0000 - val_loss: 2.8730 - val_accuracy: 0.5750\n",
            "Epoch 43/100\n",
            "6/6 [==============================] - 10s 2s/step - loss: 2.9164e-04 - accuracy: 1.0000 - val_loss: 2.9097 - val_accuracy: 0.5750\n",
            "Epoch 44/100\n",
            "6/6 [==============================] - 10s 2s/step - loss: 2.7211e-04 - accuracy: 1.0000 - val_loss: 2.9456 - val_accuracy: 0.5750\n",
            "Epoch 45/100\n",
            "6/6 [==============================] - 10s 2s/step - loss: 2.5552e-04 - accuracy: 1.0000 - val_loss: 2.9998 - val_accuracy: 0.5750\n",
            "Epoch 46/100\n",
            "6/6 [==============================] - 10s 2s/step - loss: 2.3787e-04 - accuracy: 1.0000 - val_loss: 3.0295 - val_accuracy: 0.5750\n",
            "Epoch 47/100\n",
            "6/6 [==============================] - 10s 2s/step - loss: 2.2553e-04 - accuracy: 1.0000 - val_loss: 3.0386 - val_accuracy: 0.5750\n",
            "Epoch 48/100\n",
            "6/6 [==============================] - 10s 2s/step - loss: 2.1091e-04 - accuracy: 1.0000 - val_loss: 3.0533 - val_accuracy: 0.5750\n",
            "Epoch 49/100\n",
            "6/6 [==============================] - 10s 2s/step - loss: 1.9859e-04 - accuracy: 1.0000 - val_loss: 3.0756 - val_accuracy: 0.5750\n",
            "Epoch 50/100\n",
            "6/6 [==============================] - 10s 2s/step - loss: 1.8659e-04 - accuracy: 1.0000 - val_loss: 3.1101 - val_accuracy: 0.5750\n",
            "Epoch 51/100\n",
            "6/6 [==============================] - 10s 2s/step - loss: 1.8071e-04 - accuracy: 1.0000 - val_loss: 3.1223 - val_accuracy: 0.5750\n",
            "Epoch 52/100\n",
            "6/6 [==============================] - 10s 2s/step - loss: 1.6853e-04 - accuracy: 1.0000 - val_loss: 3.1639 - val_accuracy: 0.5750\n",
            "Epoch 53/100\n",
            "6/6 [==============================] - 10s 2s/step - loss: 1.5787e-04 - accuracy: 1.0000 - val_loss: 3.1623 - val_accuracy: 0.6000\n",
            "Epoch 54/100\n",
            "6/6 [==============================] - 10s 2s/step - loss: 1.4975e-04 - accuracy: 1.0000 - val_loss: 3.1956 - val_accuracy: 0.6000\n",
            "Epoch 55/100\n",
            "6/6 [==============================] - 10s 2s/step - loss: 1.4240e-04 - accuracy: 1.0000 - val_loss: 3.2085 - val_accuracy: 0.6000\n",
            "Epoch 56/100\n",
            "6/6 [==============================] - 10s 2s/step - loss: 1.3525e-04 - accuracy: 1.0000 - val_loss: 3.2159 - val_accuracy: 0.6000\n",
            "Epoch 57/100\n",
            "6/6 [==============================] - 10s 2s/step - loss: 1.2897e-04 - accuracy: 1.0000 - val_loss: 3.2562 - val_accuracy: 0.6000\n",
            "Epoch 58/100\n",
            "6/6 [==============================] - 10s 2s/step - loss: 1.2161e-04 - accuracy: 1.0000 - val_loss: 3.2572 - val_accuracy: 0.6000\n",
            "Epoch 59/100\n",
            "6/6 [==============================] - 10s 2s/step - loss: 1.1676e-04 - accuracy: 1.0000 - val_loss: 3.2778 - val_accuracy: 0.6000\n",
            "Epoch 60/100\n",
            "6/6 [==============================] - 10s 2s/step - loss: 1.1183e-04 - accuracy: 1.0000 - val_loss: 3.3021 - val_accuracy: 0.6000\n",
            "Epoch 61/100\n",
            "6/6 [==============================] - 10s 2s/step - loss: 1.0672e-04 - accuracy: 1.0000 - val_loss: 3.3235 - val_accuracy: 0.6000\n",
            "Epoch 62/100\n",
            "6/6 [==============================] - 10s 2s/step - loss: 1.0278e-04 - accuracy: 1.0000 - val_loss: 3.3548 - val_accuracy: 0.6000\n",
            "Epoch 63/100\n",
            "6/6 [==============================] - 10s 2s/step - loss: 9.7953e-05 - accuracy: 1.0000 - val_loss: 3.3538 - val_accuracy: 0.6000\n",
            "Epoch 64/100\n",
            "6/6 [==============================] - 10s 2s/step - loss: 9.4320e-05 - accuracy: 1.0000 - val_loss: 3.3444 - val_accuracy: 0.6000\n",
            "Epoch 65/100\n",
            "6/6 [==============================] - 10s 2s/step - loss: 8.9963e-05 - accuracy: 1.0000 - val_loss: 3.3763 - val_accuracy: 0.6000\n",
            "Epoch 66/100\n",
            "6/6 [==============================] - 10s 2s/step - loss: 8.6691e-05 - accuracy: 1.0000 - val_loss: 3.4230 - val_accuracy: 0.6000\n",
            "Epoch 67/100\n",
            "6/6 [==============================] - 10s 2s/step - loss: 8.3030e-05 - accuracy: 1.0000 - val_loss: 3.4190 - val_accuracy: 0.6000\n",
            "Epoch 68/100\n",
            "6/6 [==============================] - 10s 2s/step - loss: 7.9566e-05 - accuracy: 1.0000 - val_loss: 3.4394 - val_accuracy: 0.6000\n",
            "Epoch 69/100\n",
            "6/6 [==============================] - 10s 2s/step - loss: 7.6708e-05 - accuracy: 1.0000 - val_loss: 3.4498 - val_accuracy: 0.6000\n",
            "Epoch 70/100\n",
            "6/6 [==============================] - 10s 2s/step - loss: 7.3690e-05 - accuracy: 1.0000 - val_loss: 3.4510 - val_accuracy: 0.6000\n",
            "Epoch 71/100\n",
            "6/6 [==============================] - 10s 2s/step - loss: 7.1459e-05 - accuracy: 1.0000 - val_loss: 3.4761 - val_accuracy: 0.6000\n",
            "Epoch 72/100\n",
            "6/6 [==============================] - 10s 2s/step - loss: 6.9547e-05 - accuracy: 1.0000 - val_loss: 3.4811 - val_accuracy: 0.6000\n",
            "Epoch 73/100\n",
            "6/6 [==============================] - 10s 2s/step - loss: 6.6149e-05 - accuracy: 1.0000 - val_loss: 3.5216 - val_accuracy: 0.6000\n",
            "Epoch 74/100\n",
            "6/6 [==============================] - 10s 2s/step - loss: 6.4093e-05 - accuracy: 1.0000 - val_loss: 3.5394 - val_accuracy: 0.6000\n",
            "Epoch 75/100\n",
            "6/6 [==============================] - 10s 2s/step - loss: 6.2209e-05 - accuracy: 1.0000 - val_loss: 3.5293 - val_accuracy: 0.6000\n",
            "Epoch 76/100\n",
            "6/6 [==============================] - 10s 2s/step - loss: 5.9909e-05 - accuracy: 1.0000 - val_loss: 3.5489 - val_accuracy: 0.6000\n",
            "Epoch 77/100\n",
            "6/6 [==============================] - 10s 2s/step - loss: 5.7770e-05 - accuracy: 1.0000 - val_loss: 3.5644 - val_accuracy: 0.6000\n",
            "Epoch 78/100\n",
            "6/6 [==============================] - 10s 2s/step - loss: 5.6106e-05 - accuracy: 1.0000 - val_loss: 3.5786 - val_accuracy: 0.6000\n",
            "Epoch 79/100\n",
            "6/6 [==============================] - 10s 2s/step - loss: 5.4679e-05 - accuracy: 1.0000 - val_loss: 3.5697 - val_accuracy: 0.6000\n",
            "Epoch 80/100\n",
            "6/6 [==============================] - 10s 2s/step - loss: 5.2439e-05 - accuracy: 1.0000 - val_loss: 3.6046 - val_accuracy: 0.6000\n",
            "Epoch 81/100\n",
            "6/6 [==============================] - 10s 2s/step - loss: 5.1126e-05 - accuracy: 1.0000 - val_loss: 3.6402 - val_accuracy: 0.6000\n",
            "Epoch 82/100\n",
            "6/6 [==============================] - 10s 2s/step - loss: 4.9457e-05 - accuracy: 1.0000 - val_loss: 3.6379 - val_accuracy: 0.6000\n",
            "Epoch 83/100\n",
            "6/6 [==============================] - 10s 2s/step - loss: 4.8600e-05 - accuracy: 1.0000 - val_loss: 3.6115 - val_accuracy: 0.5750\n",
            "Epoch 84/100\n",
            "6/6 [==============================] - 10s 2s/step - loss: 4.6657e-05 - accuracy: 1.0000 - val_loss: 3.6328 - val_accuracy: 0.6000\n",
            "Epoch 85/100\n",
            "6/6 [==============================] - 10s 2s/step - loss: 4.5104e-05 - accuracy: 1.0000 - val_loss: 3.6626 - val_accuracy: 0.6000\n",
            "Epoch 86/100\n",
            "6/6 [==============================] - 10s 2s/step - loss: 4.3773e-05 - accuracy: 1.0000 - val_loss: 3.6917 - val_accuracy: 0.6000\n",
            "Epoch 87/100\n",
            "6/6 [==============================] - 10s 2s/step - loss: 4.2474e-05 - accuracy: 1.0000 - val_loss: 3.6804 - val_accuracy: 0.5750\n",
            "Epoch 88/100\n",
            "6/6 [==============================] - 10s 2s/step - loss: 4.1214e-05 - accuracy: 1.0000 - val_loss: 3.6878 - val_accuracy: 0.5750\n",
            "Epoch 89/100\n",
            "6/6 [==============================] - 10s 2s/step - loss: 3.9995e-05 - accuracy: 1.0000 - val_loss: 3.6991 - val_accuracy: 0.5750\n",
            "Epoch 90/100\n",
            "6/6 [==============================] - 10s 2s/step - loss: 3.8759e-05 - accuracy: 1.0000 - val_loss: 3.7267 - val_accuracy: 0.5750\n",
            "Epoch 91/100\n",
            "6/6 [==============================] - 10s 2s/step - loss: 3.7943e-05 - accuracy: 1.0000 - val_loss: 3.7291 - val_accuracy: 0.5750\n",
            "Epoch 92/100\n",
            "6/6 [==============================] - 10s 2s/step - loss: 3.6809e-05 - accuracy: 1.0000 - val_loss: 3.7497 - val_accuracy: 0.5750\n",
            "Epoch 93/100\n",
            "6/6 [==============================] - 10s 2s/step - loss: 3.5633e-05 - accuracy: 1.0000 - val_loss: 3.7484 - val_accuracy: 0.5750\n",
            "Epoch 94/100\n",
            "6/6 [==============================] - 11s 2s/step - loss: 3.4838e-05 - accuracy: 1.0000 - val_loss: 3.7661 - val_accuracy: 0.5750\n",
            "Epoch 95/100\n",
            "6/6 [==============================] - 10s 2s/step - loss: 3.3897e-05 - accuracy: 1.0000 - val_loss: 3.7766 - val_accuracy: 0.5750\n",
            "Epoch 96/100\n",
            "6/6 [==============================] - 10s 2s/step - loss: 3.2942e-05 - accuracy: 1.0000 - val_loss: 3.7872 - val_accuracy: 0.5750\n",
            "Epoch 97/100\n",
            "6/6 [==============================] - 10s 2s/step - loss: 3.2282e-05 - accuracy: 1.0000 - val_loss: 3.7834 - val_accuracy: 0.5750\n",
            "Epoch 98/100\n",
            "6/6 [==============================] - 10s 2s/step - loss: 3.1305e-05 - accuracy: 1.0000 - val_loss: 3.8086 - val_accuracy: 0.5750\n",
            "Epoch 99/100\n",
            "6/6 [==============================] - 10s 2s/step - loss: 3.0550e-05 - accuracy: 1.0000 - val_loss: 3.8334 - val_accuracy: 0.5750\n",
            "Epoch 100/100\n",
            "6/6 [==============================] - 10s 2s/step - loss: 2.9712e-05 - accuracy: 1.0000 - val_loss: 3.8309 - val_accuracy: 0.5750\n"
          ]
        },
        {
          "output_type": "execute_result",
          "data": {
            "text/plain": [
              "<keras.callbacks.History at 0x7f3555ce8e50>"
            ]
          },
          "metadata": {},
          "execution_count": 20
        }
      ]
    },
    {
      "cell_type": "code",
      "metadata": {
        "id": "2WpMin4La2ve"
      },
      "source": [
        "model.save('mymodel.h5')"
      ],
      "execution_count": 21,
      "outputs": []
    },
    {
      "cell_type": "code",
      "metadata": {
        "colab": {
          "base_uri": "https://localhost:8080/"
        },
        "id": "RHAdzbWljLbW",
        "outputId": "6bd5bbc7-73d5-4c55-da04-ef61fa4d61d6"
      },
      "source": [
        "path = '/content/drive/MyDrive/code/test/unfinished/1.jpg'\n",
        "img = image.load_img(path, target_size=(128, 128))\n",
        "x = image.img_to_array(img)\n",
        "x = np.expand_dims(x, axis=0)\n",
        "\n",
        "images = np.vstack([x])\n",
        "classes = model.predict(images)\n",
        "print(classes[0])\n",
        "if classes[0]<0.5:\n",
        "    print(\"The Construction of the Building has been Completed\")\n",
        "else:\n",
        "    print(\"Building work of the Construction is in Progress.........\")"
      ],
      "execution_count": 22,
      "outputs": [
        {
          "output_type": "stream",
          "name": "stdout",
          "text": [
            "[1.]\n",
            "Building work of the Construction is in Progress.........\n"
          ]
        }
      ]
    }
  ]
}