{
 "cells": [
  {
   "cell_type": "code",
   "execution_count": 11,
   "metadata": {},
   "outputs": [],
   "source": [
    "import tensorflow as tf\n",
    "from tensorflow.keras.preprocessing.image import ImageDataGenerator"
   ]
  },
  {
   "cell_type": "markdown",
   "metadata": {},
   "source": [
    "We shall use the ImageDataGenerator class to feed in the training and validation data to the model. This class can also be used to generate augmented data.\n",
    "\n",
    "To know more about ImageDataGenerator class, visit https://keras.io/preprocessing/image/#imagedatagenerator-class"
   ]
  },
  {
   "cell_type": "code",
   "execution_count": 12,
   "metadata": {},
   "outputs": [
    {
     "name": "stdout",
     "output_type": "stream",
     "text": [
      "Found 40 images belonging to 2 classes.\n",
      "Found 10 images belonging to 2 classes.\n"
     ]
    }
   ],
   "source": [
    "train_datagenerator = ImageDataGenerator(rescale=1./255)\n",
    "test_datagenerator = ImageDataGenerator(rescale=1./255)\n",
    "\n",
    "train_datagenerator = train_datagenerator.flow_from_directory(\n",
    "    'train',\n",
    "    target_size=(128,128),\n",
    "    batch_size=40,\n",
    "    class_mode='binary')\n",
    "\n",
    "test_datagenerator = test_datagenerator.flow_from_directory(\n",
    "    'test',\n",
    "    target_size=(128,128),\n",
    "    batch_size=10,\n",
    "    class_mode='binary')"
   ]
  },
  {
   "cell_type": "markdown",
   "metadata": {},
   "source": [
    "Our model will have 3 Convolution2D layers. You can increse or decrease as per your needs."
   ]
  },
  {
   "cell_type": "code",
   "execution_count": 13,
   "metadata": {},
   "outputs": [],
   "source": [
    "model = tf.keras.models.Sequential([\n",
    "    tf.keras.layers.Conv2D(32, (3,3),padding='same', activation='relu', input_shape=(128,128,3)),\n",
    "    tf.keras.layers.MaxPooling2D((2,2),2),\n",
    "    \n",
    "    tf.keras.layers.Conv2D(64, (3,3), padding='same', activation='relu'),\n",
    "    tf.keras.layers.MaxPooling2D((2,2),2),     \n",
    "     \n",
    "    tf.keras.layers.Conv2D(128, (3,3), padding='same', activation='relu'),\n",
    "    tf.keras.layers.MaxPooling2D((2,2),2),   \n",
    "    \n",
    "    tf.keras.layers.Flatten(),\n",
    "    tf.keras.layers.Dense(512, activation='relu'),\n",
    "    \n",
    "    tf.keras.layers.Dense(1, activation='sigmoid')\n",
    "])"
   ]
  },
  {
   "cell_type": "code",
   "execution_count": 14,
   "metadata": {},
   "outputs": [
    {
     "name": "stdout",
     "output_type": "stream",
     "text": [
      "Model: \"sequential\"\n",
      "_________________________________________________________________\n",
      "Layer (type)                 Output Shape              Param #   \n",
      "=================================================================\n",
      "conv2d (Conv2D)              (None, 128, 128, 32)      896       \n",
      "_________________________________________________________________\n",
      "max_pooling2d (MaxPooling2D) (None, 64, 64, 32)        0         \n",
      "_________________________________________________________________\n",
      "conv2d_1 (Conv2D)            (None, 64, 64, 64)        18496     \n",
      "_________________________________________________________________\n",
      "max_pooling2d_1 (MaxPooling2 (None, 32, 32, 64)        0         \n",
      "_________________________________________________________________\n",
      "conv2d_2 (Conv2D)            (None, 32, 32, 128)       73856     \n",
      "_________________________________________________________________\n",
      "max_pooling2d_2 (MaxPooling2 (None, 16, 16, 128)       0         \n",
      "_________________________________________________________________\n",
      "flatten (Flatten)            (None, 32768)             0         \n",
      "_________________________________________________________________\n",
      "dense (Dense)                (None, 512)               16777728  \n",
      "_________________________________________________________________\n",
      "dense_1 (Dense)              (None, 1)                 513       \n",
      "=================================================================\n",
      "Total params: 16,871,489\n",
      "Trainable params: 16,871,489\n",
      "Non-trainable params: 0\n",
      "_________________________________________________________________\n",
      "None\n"
     ]
    }
   ],
   "source": [
    "print(model.summary())"
   ]
  },
  {
   "cell_type": "markdown",
   "metadata": {},
   "source": [
    "We shall use Adam optimizer with a learning rate of 0.001 (hyperparameter). We choose 'binary_crossentropy' loss as our model is a binary calssifier (i.e, we have only 2 classes)"
   ]
  },
  {
   "cell_type": "code",
   "execution_count": 33,
   "metadata": {},
   "outputs": [],
   "source": [
    "model.compile(loss='binary_crossentropy',\n",
    "             optimizer=tf.keras.optimizers.Adam(0.001),\n",
    "             metrics=['accuracy'])"
   ]
  },
  {
   "cell_type": "markdown",
   "metadata": {},
   "source": [
    "At the end of each epoch we can check if the model has reached the required accuracy and terminate the training."
   ]
  },
  {
   "cell_type": "code",
   "execution_count": 34,
   "metadata": {},
   "outputs": [],
   "source": [
    "DESIRED_ACCURACY = 0.85\n",
    "\n",
    "class myCallback(tf.keras.callbacks.Callback):\n",
    "  def on_epoch_end(self, epoch, logs={}):\n",
    "    if((logs.get('accuracy')>DESIRED_ACCURACY) and (logs.get('val_accuracy')>DESIRED_ACCURACY )):\n",
    "      print(\"\\nReached 85% accuracy so cancelling training!\")\n",
    "      self.model.stop_training = True\n",
    "\n",
    "callbacks = myCallback()"
   ]
  },
  {
   "cell_type": "markdown",
   "metadata": {},
   "source": [
    "To know more about fit_generator visit https://keras.io/models/model/#fit_generator"
   ]
  },
  {
   "cell_type": "code",
   "execution_count": 35,
   "metadata": {},
   "outputs": [
    {
     "name": "stdout",
     "output_type": "stream",
     "text": [
      "Epoch 1/100\n",
      "1/1 [==============================] - 2s 2s/step - loss: 0.5327 - accuracy: 0.6250 - val_loss: 1.0054 - val_accuracy: 0.4000\n",
      "Epoch 2/100\n",
      "1/1 [==============================] - 1s 980ms/step - loss: 0.4925 - accuracy: 0.7000 - val_loss: 1.0174 - val_accuracy: 0.5000\n",
      "Epoch 3/100\n",
      "1/1 [==============================] - 1s 996ms/step - loss: 0.3305 - accuracy: 0.8750 - val_loss: 1.2407 - val_accuracy: 0.6000\n",
      "Epoch 4/100\n",
      "1/1 [==============================] - 1s 955ms/step - loss: 0.4061 - accuracy: 0.8500 - val_loss: 1.0381 - val_accuracy: 0.5000\n",
      "Epoch 5/100\n",
      "1/1 [==============================] - 1s 1s/step - loss: 0.1997 - accuracy: 0.9500 - val_loss: 1.1254 - val_accuracy: 0.5000\n",
      "Epoch 6/100\n",
      "1/1 [==============================] - 1s 968ms/step - loss: 0.2141 - accuracy: 0.9000 - val_loss: 0.7940 - val_accuracy: 0.8000\n",
      "Epoch 7/100\n",
      "1/1 [==============================] - 1s 1s/step - loss: 0.1232 - accuracy: 1.0000 - val_loss: 0.9382 - val_accuracy: 0.6000\n",
      "Epoch 8/100\n",
      "1/1 [==============================] - 1s 1s/step - loss: 0.1607 - accuracy: 0.9250 - val_loss: 0.7223 - val_accuracy: 0.6000\n",
      "Epoch 9/100\n",
      "1/1 [==============================] - 1s 1s/step - loss: 0.0700 - accuracy: 1.0000 - val_loss: 1.0243 - val_accuracy: 0.5000\n",
      "Epoch 10/100\n",
      "1/1 [==============================] - 1s 1s/step - loss: 0.0790 - accuracy: 0.9750 - val_loss: 0.9643 - val_accuracy: 0.5000\n",
      "Epoch 11/100\n",
      "1/1 [==============================] - 1s 1s/step - loss: 0.0445 - accuracy: 1.0000 - val_loss: 0.8657 - val_accuracy: 0.7000\n",
      "Epoch 12/100\n",
      "1/1 [==============================] - 1s 995ms/step - loss: 0.0221 - accuracy: 1.0000 - val_loss: 1.1856 - val_accuracy: 0.7000\n",
      "Epoch 13/100\n",
      "1/1 [==============================] - 1s 1s/step - loss: 0.0333 - accuracy: 1.0000 - val_loss: 1.1336 - val_accuracy: 0.8000\n",
      "Epoch 14/100\n",
      "1/1 [==============================] - 1s 1s/step - loss: 0.0148 - accuracy: 1.0000 - val_loss: 1.1401 - val_accuracy: 0.8000\n",
      "Epoch 15/100\n",
      "1/1 [==============================] - 1s 1s/step - loss: 0.0066 - accuracy: 1.0000 - val_loss: 1.3360 - val_accuracy: 0.8000\n",
      "Epoch 16/100\n",
      "1/1 [==============================] - 1s 982ms/step - loss: 0.0068 - accuracy: 1.0000 - val_loss: 1.5579 - val_accuracy: 0.7000\n",
      "Epoch 17/100\n",
      "1/1 [==============================] - 1s 1s/step - loss: 0.0073 - accuracy: 1.0000 - val_loss: 1.6551 - val_accuracy: 0.7000\n",
      "Epoch 18/100\n",
      "1/1 [==============================] - 1s 956ms/step - loss: 0.0053 - accuracy: 1.0000 - val_loss: 1.6488 - val_accuracy: 0.8000\n",
      "Epoch 19/100\n",
      "1/1 [==============================] - 1s 1s/step - loss: 0.0026 - accuracy: 1.0000 - val_loss: 1.6377 - val_accuracy: 0.8000\n",
      "Epoch 20/100\n",
      "1/1 [==============================] - 1s 1s/step - loss: 0.0011 - accuracy: 1.0000 - val_loss: 1.6684 - val_accuracy: 0.7000\n",
      "Epoch 21/100\n",
      "1/1 [==============================] - 1s 1s/step - loss: 5.2519e-04 - accuracy: 1.0000 - val_loss: 1.7476 - val_accuracy: 0.7000\n",
      "Epoch 22/100\n",
      "1/1 [==============================] - 1s 1s/step - loss: 4.2023e-04 - accuracy: 1.0000 - val_loss: 1.8538 - val_accuracy: 0.7000\n",
      "Epoch 23/100\n",
      "1/1 [==============================] - 1s 1s/step - loss: 6.3048e-04 - accuracy: 1.0000 - val_loss: 1.9542 - val_accuracy: 0.7000\n",
      "Epoch 24/100\n",
      "1/1 [==============================] - 1s 1s/step - loss: 9.2359e-04 - accuracy: 1.0000 - val_loss: 2.0179 - val_accuracy: 0.7000\n",
      "Epoch 25/100\n",
      "1/1 [==============================] - 1s 1s/step - loss: 7.6390e-04 - accuracy: 1.0000 - val_loss: 2.0513 - val_accuracy: 0.7000\n",
      "Epoch 26/100\n",
      "1/1 [==============================] - 1s 960ms/step - loss: 3.8767e-04 - accuracy: 1.0000 - val_loss: 2.0754 - val_accuracy: 0.7000\n",
      "Epoch 27/100\n",
      "1/1 [==============================] - 1s 967ms/step - loss: 1.7249e-04 - accuracy: 1.0000 - val_loss: 2.1005 - val_accuracy: 0.7000\n",
      "Epoch 28/100\n",
      "1/1 [==============================] - 1s 1s/step - loss: 8.4940e-05 - accuracy: 1.0000 - val_loss: 2.1261 - val_accuracy: 0.7000\n",
      "Epoch 29/100\n",
      "1/1 [==============================] - 1s 1s/step - loss: 5.1840e-05 - accuracy: 1.0000 - val_loss: 2.1508 - val_accuracy: 0.7000\n",
      "Epoch 30/100\n",
      "1/1 [==============================] - 1s 1s/step - loss: 4.1499e-05 - accuracy: 1.0000 - val_loss: 2.1768 - val_accuracy: 0.7000\n",
      "Epoch 31/100\n",
      "1/1 [==============================] - 1s 1s/step - loss: 4.2473e-05 - accuracy: 1.0000 - val_loss: 2.2039 - val_accuracy: 0.7000\n",
      "Epoch 32/100\n",
      "1/1 [==============================] - 1s 1s/step - loss: 5.0285e-05 - accuracy: 1.0000 - val_loss: 2.2325 - val_accuracy: 0.7000\n",
      "Epoch 33/100\n",
      "1/1 [==============================] - 1s 1s/step - loss: 6.1976e-05 - accuracy: 1.0000 - val_loss: 2.2622 - val_accuracy: 0.7000\n",
      "Epoch 34/100\n",
      "1/1 [==============================] - 1s 998ms/step - loss: 7.2858e-05 - accuracy: 1.0000 - val_loss: 2.2900 - val_accuracy: 0.7000\n",
      "Epoch 35/100\n",
      "1/1 [==============================] - 1s 1s/step - loss: 7.7350e-05 - accuracy: 1.0000 - val_loss: 2.3153 - val_accuracy: 0.7000\n",
      "Epoch 36/100\n",
      "1/1 [==============================] - 1s 1s/step - loss: 7.2528e-05 - accuracy: 1.0000 - val_loss: 2.3373 - val_accuracy: 0.7000\n",
      "Epoch 37/100\n",
      "1/1 [==============================] - 1s 1s/step - loss: 6.0642e-05 - accuracy: 1.0000 - val_loss: 2.3559 - val_accuracy: 0.7000\n",
      "Epoch 38/100\n",
      "1/1 [==============================] - 1s 972ms/step - loss: 4.6561e-05 - accuracy: 1.0000 - val_loss: 2.3715 - val_accuracy: 0.7000\n",
      "Epoch 39/100\n",
      "1/1 [==============================] - 1s 1s/step - loss: 3.4093e-05 - accuracy: 1.0000 - val_loss: 2.3849 - val_accuracy: 0.7000\n",
      "Epoch 40/100\n",
      "1/1 [==============================] - 1s 1s/step - loss: 2.4606e-05 - accuracy: 1.0000 - val_loss: 2.3966 - val_accuracy: 0.7000\n",
      "Epoch 41/100\n",
      "1/1 [==============================] - 1s 1s/step - loss: 1.7904e-05 - accuracy: 1.0000 - val_loss: 2.4073 - val_accuracy: 0.7000\n",
      "Epoch 42/100\n",
      "1/1 [==============================] - 1s 1s/step - loss: 1.3344e-05 - accuracy: 1.0000 - val_loss: 2.4173 - val_accuracy: 0.7000\n",
      "Epoch 43/100\n",
      "1/1 [==============================] - 1s 1s/step - loss: 1.0275e-05 - accuracy: 1.0000 - val_loss: 2.4265 - val_accuracy: 0.7000\n",
      "Epoch 44/100\n",
      "1/1 [==============================] - 1s 1s/step - loss: 8.1943e-06 - accuracy: 1.0000 - val_loss: 2.4350 - val_accuracy: 0.7000\n",
      "Epoch 45/100\n",
      "1/1 [==============================] - 2s 2s/step - loss: 6.7621e-06 - accuracy: 1.0000 - val_loss: 2.4430 - val_accuracy: 0.7000\n",
      "Epoch 46/100\n",
      "1/1 [==============================] - 1s 1s/step - loss: 5.7576e-06 - accuracy: 1.0000 - val_loss: 2.4505 - val_accuracy: 0.7000\n",
      "Epoch 47/100\n",
      "1/1 [==============================] - 1s 1s/step - loss: 5.0399e-06 - accuracy: 1.0000 - val_loss: 2.4575 - val_accuracy: 0.7000\n",
      "Epoch 48/100\n",
      "1/1 [==============================] - 1s 1s/step - loss: 4.5153e-06 - accuracy: 1.0000 - val_loss: 2.4640 - val_accuracy: 0.7000\n",
      "Epoch 49/100\n",
      "1/1 [==============================] - 2s 2s/step - loss: 4.1238e-06 - accuracy: 1.0000 - val_loss: 2.4701 - val_accuracy: 0.7000\n",
      "Epoch 50/100\n",
      "1/1 [==============================] - 2s 2s/step - loss: 3.8259e-06 - accuracy: 1.0000 - val_loss: 2.4759 - val_accuracy: 0.7000\n",
      "Epoch 51/100\n",
      "1/1 [==============================] - 1s 1s/step - loss: 3.5953e-06 - accuracy: 1.0000 - val_loss: 2.4813 - val_accuracy: 0.7000\n",
      "Epoch 52/100\n",
      "1/1 [==============================] - 1s 1s/step - loss: 3.4138e-06 - accuracy: 1.0000 - val_loss: 2.4864 - val_accuracy: 0.7000\n",
      "Epoch 53/100\n",
      "1/1 [==============================] - 1s 1s/step - loss: 3.2689e-06 - accuracy: 1.0000 - val_loss: 2.4911 - val_accuracy: 0.7000\n",
      "Epoch 54/100\n",
      "1/1 [==============================] - 1s 1s/step - loss: 3.1515e-06 - accuracy: 1.0000 - val_loss: 2.4956 - val_accuracy: 0.7000\n",
      "Epoch 55/100\n",
      "1/1 [==============================] - 2s 2s/step - loss: 3.0551e-06 - accuracy: 1.0000 - val_loss: 2.4997 - val_accuracy: 0.7000\n",
      "Epoch 56/100\n",
      "1/1 [==============================] - 1s 1s/step - loss: 2.9749e-06 - accuracy: 1.0000 - val_loss: 2.5036 - val_accuracy: 0.7000\n",
      "Epoch 57/100\n",
      "1/1 [==============================] - 1s 1s/step - loss: 2.9073e-06 - accuracy: 1.0000 - val_loss: 2.5071 - val_accuracy: 0.7000\n",
      "Epoch 58/100\n",
      "1/1 [==============================] - 1s 1s/step - loss: 2.8496e-06 - accuracy: 1.0000 - val_loss: 2.5104 - val_accuracy: 0.7000\n"
     ]
    },
    {
     "name": "stdout",
     "output_type": "stream",
     "text": [
      "Epoch 59/100\n",
      "1/1 [==============================] - 1s 1s/step - loss: 2.7999e-06 - accuracy: 1.0000 - val_loss: 2.5135 - val_accuracy: 0.7000\n",
      "Epoch 60/100\n",
      "1/1 [==============================] - 1s 1s/step - loss: 2.7565e-06 - accuracy: 1.0000 - val_loss: 2.5164 - val_accuracy: 0.7000\n",
      "Epoch 61/100\n",
      "1/1 [==============================] - 1s 1s/step - loss: 2.7183e-06 - accuracy: 1.0000 - val_loss: 2.5191 - val_accuracy: 0.7000\n",
      "Epoch 62/100\n",
      "1/1 [==============================] - 1s 1s/step - loss: 2.6841e-06 - accuracy: 1.0000 - val_loss: 2.5215 - val_accuracy: 0.7000\n",
      "Epoch 63/100\n",
      "1/1 [==============================] - 1s 1s/step - loss: 2.6532e-06 - accuracy: 1.0000 - val_loss: 2.5239 - val_accuracy: 0.7000\n",
      "Epoch 64/100\n",
      "1/1 [==============================] - 1s 1s/step - loss: 2.6251e-06 - accuracy: 1.0000 - val_loss: 2.5260 - val_accuracy: 0.7000\n",
      "Epoch 65/100\n",
      "1/1 [==============================] - 1s 1s/step - loss: 2.5993e-06 - accuracy: 1.0000 - val_loss: 2.5281 - val_accuracy: 0.7000\n",
      "Epoch 66/100\n",
      "1/1 [==============================] - 1s 1s/step - loss: 2.5753e-06 - accuracy: 1.0000 - val_loss: 2.5300 - val_accuracy: 0.7000\n",
      "Epoch 67/100\n",
      "1/1 [==============================] - 1s 1s/step - loss: 2.5529e-06 - accuracy: 1.0000 - val_loss: 2.5317 - val_accuracy: 0.7000\n",
      "Epoch 68/100\n",
      "1/1 [==============================] - 1s 1s/step - loss: 2.5318e-06 - accuracy: 1.0000 - val_loss: 2.5334 - val_accuracy: 0.7000\n",
      "Epoch 69/100\n",
      "1/1 [==============================] - 1s 1s/step - loss: 2.5119e-06 - accuracy: 1.0000 - val_loss: 2.5349 - val_accuracy: 0.7000\n",
      "Epoch 70/100\n",
      "1/1 [==============================] - 1s 1s/step - loss: 2.4928e-06 - accuracy: 1.0000 - val_loss: 2.5364 - val_accuracy: 0.7000\n",
      "Epoch 71/100\n",
      "1/1 [==============================] - 1s 1s/step - loss: 2.4745e-06 - accuracy: 1.0000 - val_loss: 2.5378 - val_accuracy: 0.7000\n",
      "Epoch 72/100\n",
      "1/1 [==============================] - 1s 1s/step - loss: 2.4570e-06 - accuracy: 1.0000 - val_loss: 2.5391 - val_accuracy: 0.7000\n",
      "Epoch 73/100\n",
      "1/1 [==============================] - 1s 1s/step - loss: 2.4400e-06 - accuracy: 1.0000 - val_loss: 2.5403 - val_accuracy: 0.7000\n",
      "Epoch 74/100\n",
      "1/1 [==============================] - 1s 1s/step - loss: 2.4236e-06 - accuracy: 1.0000 - val_loss: 2.5415 - val_accuracy: 0.7000\n",
      "Epoch 75/100\n",
      "1/1 [==============================] - 1s 1s/step - loss: 2.4077e-06 - accuracy: 1.0000 - val_loss: 2.5426 - val_accuracy: 0.7000\n",
      "Epoch 76/100\n",
      "1/1 [==============================] - 1s 1s/step - loss: 2.3921e-06 - accuracy: 1.0000 - val_loss: 2.5437 - val_accuracy: 0.7000\n",
      "Epoch 77/100\n",
      "1/1 [==============================] - 2s 2s/step - loss: 2.3770e-06 - accuracy: 1.0000 - val_loss: 2.5447 - val_accuracy: 0.7000\n",
      "Epoch 78/100\n",
      "1/1 [==============================] - 1s 1s/step - loss: 2.3622e-06 - accuracy: 1.0000 - val_loss: 2.5457 - val_accuracy: 0.7000\n",
      "Epoch 79/100\n",
      "1/1 [==============================] - 2s 2s/step - loss: 2.3477e-06 - accuracy: 1.0000 - val_loss: 2.5466 - val_accuracy: 0.7000\n",
      "Epoch 80/100\n",
      "1/1 [==============================] - 2s 2s/step - loss: 2.3335e-06 - accuracy: 1.0000 - val_loss: 2.5475 - val_accuracy: 0.7000\n",
      "Epoch 81/100\n",
      "1/1 [==============================] - 1s 1s/step - loss: 2.3196e-06 - accuracy: 1.0000 - val_loss: 2.5484 - val_accuracy: 0.7000\n",
      "Epoch 82/100\n",
      "1/1 [==============================] - 1s 1s/step - loss: 2.3059e-06 - accuracy: 1.0000 - val_loss: 2.5492 - val_accuracy: 0.7000\n",
      "Epoch 83/100\n",
      "1/1 [==============================] - 1s 1s/step - loss: 2.2925e-06 - accuracy: 1.0000 - val_loss: 2.5500 - val_accuracy: 0.7000\n",
      "Epoch 84/100\n",
      "1/1 [==============================] - 2s 2s/step - loss: 2.2793e-06 - accuracy: 1.0000 - val_loss: 2.5508 - val_accuracy: 0.7000\n",
      "Epoch 85/100\n",
      "1/1 [==============================] - 1s 1s/step - loss: 2.2663e-06 - accuracy: 1.0000 - val_loss: 2.5516 - val_accuracy: 0.7000\n",
      "Epoch 86/100\n",
      "1/1 [==============================] - 1s 1s/step - loss: 2.2535e-06 - accuracy: 1.0000 - val_loss: 2.5523 - val_accuracy: 0.7000\n",
      "Epoch 87/100\n",
      "1/1 [==============================] - 2s 2s/step - loss: 2.2410e-06 - accuracy: 1.0000 - val_loss: 2.5531 - val_accuracy: 0.7000\n",
      "Epoch 88/100\n",
      "1/1 [==============================] - 1s 1s/step - loss: 2.2286e-06 - accuracy: 1.0000 - val_loss: 2.5538 - val_accuracy: 0.7000\n",
      "Epoch 89/100\n",
      "1/1 [==============================] - 1s 1s/step - loss: 2.2164e-06 - accuracy: 1.0000 - val_loss: 2.5545 - val_accuracy: 0.7000\n",
      "Epoch 90/100\n",
      "1/1 [==============================] - 1s 1s/step - loss: 2.2044e-06 - accuracy: 1.0000 - val_loss: 2.5552 - val_accuracy: 0.7000\n",
      "Epoch 91/100\n",
      "1/1 [==============================] - 1s 1s/step - loss: 2.1925e-06 - accuracy: 1.0000 - val_loss: 2.5559 - val_accuracy: 0.7000\n",
      "Epoch 92/100\n",
      "1/1 [==============================] - 1s 1s/step - loss: 2.1809e-06 - accuracy: 1.0000 - val_loss: 2.5566 - val_accuracy: 0.7000\n",
      "Epoch 93/100\n",
      "1/1 [==============================] - 1s 1s/step - loss: 2.1694e-06 - accuracy: 1.0000 - val_loss: 2.5572 - val_accuracy: 0.7000\n",
      "Epoch 94/100\n",
      "1/1 [==============================] - 1s 1s/step - loss: 2.1581e-06 - accuracy: 1.0000 - val_loss: 2.5579 - val_accuracy: 0.7000\n",
      "Epoch 95/100\n",
      "1/1 [==============================] - 1s 1s/step - loss: 2.1469e-06 - accuracy: 1.0000 - val_loss: 2.5585 - val_accuracy: 0.7000\n",
      "Epoch 96/100\n",
      "1/1 [==============================] - 1s 1s/step - loss: 2.1359e-06 - accuracy: 1.0000 - val_loss: 2.5592 - val_accuracy: 0.7000\n",
      "Epoch 97/100\n",
      "1/1 [==============================] - 2s 2s/step - loss: 2.1250e-06 - accuracy: 1.0000 - val_loss: 2.5598 - val_accuracy: 0.7000\n",
      "Epoch 98/100\n",
      "1/1 [==============================] - 1s 1s/step - loss: 2.1143e-06 - accuracy: 1.0000 - val_loss: 2.5605 - val_accuracy: 0.7000\n",
      "Epoch 99/100\n",
      "1/1 [==============================] - 2s 2s/step - loss: 2.1038e-06 - accuracy: 1.0000 - val_loss: 2.5611 - val_accuracy: 0.7000\n",
      "Epoch 100/100\n",
      "1/1 [==============================] - 2s 2s/step - loss: 2.0933e-06 - accuracy: 1.0000 - val_loss: 2.5617 - val_accuracy: 0.7000\n"
     ]
    },
    {
     "data": {
      "text/plain": [
       "<tensorflow.python.keras.callbacks.History at 0x186cd2f63d0>"
      ]
     },
     "execution_count": 35,
     "metadata": {},
     "output_type": "execute_result"
    }
   ],
   "source": [
    "model.fit_generator(\n",
    "    train_datagenerator,\n",
    "    epochs=100,\n",
    "    validation_data = test_datagenerator,\n",
    "    callbacks = [callbacks]\n",
    "    )"
   ]
  },
  {
   "cell_type": "code",
   "execution_count": 36,
   "metadata": {},
   "outputs": [],
   "source": [
    "model.save('mymodel.h5')"
   ]
  }
 ],
 "metadata": {
  "kernelspec": {
   "display_name": "Python 3",
   "language": "python",
   "name": "python3"
  },
  "language_info": {
   "codemirror_mode": {
    "name": "ipython",
    "version": 3
   },
   "file_extension": ".py",
   "mimetype": "text/x-python",
   "name": "python",
   "nbconvert_exporter": "python",
   "pygments_lexer": "ipython3",
   "version": "3.9.6"
  }
 },
 "nbformat": 4,
 "nbformat_minor": 2
}
